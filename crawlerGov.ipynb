{
 "cells": [
  {
   "cell_type": "code",
   "execution_count": 13,
   "metadata": {},
   "outputs": [],
   "source": [
    "import requests\n",
    "from bs4 import BeautifulSoup\n",
    "import re"
   ]
  },
  {
   "cell_type": "code",
   "execution_count": 89,
   "metadata": {},
   "outputs": [
    {
     "data": {
      "text/plain": [
       "{0: ['关于印发医学检验实验室管理暂行办法的通知',\n",
       "  'http://www.gov.cn/xinwen/2020-08/03/content_5532144.htm'],\n",
       " 1: ['关于印发医学检验实验室管理暂行办法的通知',\n",
       "  'http://www.gov.cn/xinwen/2020-08/03/content_5532144.htm'],\n",
       " 2: ['关于印发医学检验实验室管理暂行办法的通知',\n",
       "  'http://www.gov.cn/xinwen/2020-08/03/content_5532144.htm'],\n",
       " 3: ['关于印发医学检验实验室管理暂行办法的通知',\n",
       "  'http://www.gov.cn/xinwen/2020-08/03/content_5532144.htm'],\n",
       " 4: ['关于印发医学检验实验室管理暂行办法的通知',\n",
       "  'http://www.gov.cn/xinwen/2020-08/03/content_5532144.htm'],\n",
       " 5: ['关于印发医学检验实验室管理暂行办法的通知',\n",
       "  'http://www.gov.cn/xinwen/2020-08/03/content_5532144.htm'],\n",
       " 6: ['关于印发医学检验实验室管理暂行办法的通知',\n",
       "  'http://www.gov.cn/xinwen/2020-08/03/content_5532144.htm'],\n",
       " 7: ['关于印发医学检验实验室管理暂行办法的通知',\n",
       "  'http://www.gov.cn/xinwen/2020-08/03/content_5532144.htm'],\n",
       " 8: ['关于印发医学检验实验室管理暂行办法的通知',\n",
       "  'http://www.gov.cn/xinwen/2020-08/03/content_5532144.htm'],\n",
       " 9: ['关于印发医学检验实验室管理暂行办法的通知',\n",
       "  'http://www.gov.cn/xinwen/2020-08/03/content_5532144.htm'],\n",
       " 10: ['关于印发医学检验实验室管理暂行办法的通知',\n",
       "  'http://www.gov.cn/xinwen/2020-08/03/content_5532144.htm'],\n",
       " 11: ['关于印发医学检验实验室管理暂行办法的通知',\n",
       "  'http://www.gov.cn/xinwen/2020-08/03/content_5532144.htm'],\n",
       " 12: ['关于印发医学检验实验室管理暂行办法的通知',\n",
       "  'http://www.gov.cn/xinwen/2020-08/03/content_5532144.htm'],\n",
       " 13: ['关于印发医学检验实验室管理暂行办法的通知',\n",
       "  'http://www.gov.cn/xinwen/2020-08/03/content_5532144.htm'],\n",
       " 14: ['关于印发医学检验实验室管理暂行办法的通知',\n",
       "  'http://www.gov.cn/xinwen/2020-08/03/content_5532144.htm'],\n",
       " 15: ['关于印发医学检验实验室管理暂行办法的通知',\n",
       "  'http://www.gov.cn/xinwen/2020-08/03/content_5532144.htm'],\n",
       " 16: ['关于印发医学检验实验室管理暂行办法的通知',\n",
       "  'http://www.gov.cn/xinwen/2020-08/03/content_5532144.htm'],\n",
       " 17: ['关于印发医学检验实验室管理暂行办法的通知',\n",
       "  'http://www.gov.cn/xinwen/2020-08/03/content_5532144.htm'],\n",
       " 18: ['关于印发医学检验实验室管理暂行办法的通知',\n",
       "  'http://www.gov.cn/xinwen/2020-08/03/content_5532144.htm'],\n",
       " 19: ['关于印发医学检验实验室管理暂行办法的通知',\n",
       "  'http://www.gov.cn/xinwen/2020-08/03/content_5532144.htm']}"
      ]
     },
     "execution_count": 89,
     "metadata": {},
     "output_type": "execute_result"
    }
   ],
   "source": [
    "urls = \"http://sousuo.gov.cn/column/49505/0.htm\"\n",
    "headers = {\n",
    "    'User-Agent': 'Mozilla/5.0 (Windows NT 10.0; Win64; x64) '\n",
    "                  'AppleWebKit/537.36 (KHTML, like Gecko) '\n",
    "                  'Chrome/67.0.3396.79 Safari/537.36'\n",
    "}\n",
    "\n",
    "res = requests.get(urls,headers)\n",
    "\n",
    "demo = res.text\n",
    "soup = BeautifulSoup(demo, \"html.parser\")\n",
    "#listTxt = soup.find_all(attrs={\"class\": \"listTxt\"})\n",
    "#是个数组\n",
    "listTxt = soup.find_all(\"ul\", class_=\"listTxt\")\n",
    "txtArray = listTxt[0].find_all('li')\n",
    "# txtArray[1].a.string\n",
    "# len(txtArray) 20行\n",
    "results ={}\n",
    "for j in range(len(txtArray)):\n",
    "    for i in txtArray:\n",
    "        results[j]=[(i.a.string),(i.a['href'])]\n",
    "# [(txtArray[0].a.string),(txtArray[0].a['href'])]\n",
    "results"
   ]
  },
  {
   "cell_type": "code",
   "execution_count": null,
   "metadata": {},
   "outputs": [],
   "source": []
  }
 ],
 "metadata": {
  "kernelspec": {
   "display_name": "Python 3",
   "language": "python",
   "name": "python3"
  },
  "language_info": {
   "codemirror_mode": {
    "name": "ipython",
    "version": 3
   },
   "file_extension": ".py",
   "mimetype": "text/x-python",
   "name": "python",
   "nbconvert_exporter": "python",
   "pygments_lexer": "ipython3",
   "version": "3.8.5"
  }
 },
 "nbformat": 4,
 "nbformat_minor": 4
}

{
 "cells": [
  {
   "cell_type": "code",
   "execution_count": 6,
   "metadata": {},
   "outputs": [],
   "source": [
    "import requests\n",
    "from bs4 import BeautifulSoup\n",
    "import re"
   ]
  },
  {
   "cell_type": "code",
   "execution_count": 7,
   "metadata": {},
   "outputs": [
    {
     "data": {
      "text/plain": [
       "['关于印发医学检验实验室管理暂行办法的通知',\n",
       " 'http://www.gov.cn/xinwen/2020-08/03/content_5532144.htm']"
      ]
     },
     "execution_count": 7,
     "metadata": {},
     "output_type": "execute_result"
    }
   ],
   "source": [
    "urls = \"http://sousuo.gov.cn/column/49505/0.htm\"\n",
    "headers = {\n",
    "    'User-Agent': 'Mozilla/5.0 (Windows NT 10.0; Win64; x64) '\n",
    "                  'AppleWebKit/537.36 (KHTML, like Gecko) '\n",
    "                  'Chrome/67.0.3396.79 Safari/537.36'\n",
    "}\n",
    "\n",
    "res = requests.get(urls,headers)\n",
    "\n",
    "demo = res.text\n",
    "soup = BeautifulSoup(demo, \"html.parser\")\n",
    "#listTxt = soup.find_all(attrs={\"class\": \"listTxt\"})\n",
    "#是个数组\n",
    "listTxt = soup.find_all(\"ul\", class_=\"listTxt\")\n",
    "txtArray = listTxt[0].find_all('li')\n",
    "# txtArray[1].a.string\n",
    "# len(txtArray) 20行\n",
    "results ={}\n",
    "for j in range(len(txtArray)):\n",
    "    for i in txtArray:\n",
    "        results[j]=[(i.a.string),(i.a['href'])]\n",
    "# [(txtArray[0].a.string),(txtArray[0].a['href'])]\n",
    "results[0]"
   ]
  },
  {
   "cell_type": "code",
   "execution_count": null,
   "metadata": {},
   "outputs": [],
   "source": [
    "# 一共5页，循环爬取\n",
    "urls = []\n",
    "urls.extend([\"http://sousuo.gov.cn/column/49505/{}.htm\".format(i) for i in range(5)])\n",
    "urls"
   ]
  },
  {
   "cell_type": "code",
   "execution_count": 4,
   "metadata": {},
   "outputs": [
    {
     "data": {
      "text/plain": [
       "['http://sousuo.gov.cn/column/49505/0.htm',\n",
       " 'http://sousuo.gov.cn/column/49505/1.htm',\n",
       " 'http://sousuo.gov.cn/column/49505/2.htm',\n",
       " 'http://sousuo.gov.cn/column/49505/3.htm',\n",
       " 'http://sousuo.gov.cn/column/49505/4.htm']"
      ]
     },
     "execution_count": 4,
     "metadata": {},
     "output_type": "execute_result"
    }
   ],
   "source": []
  },
  {
   "cell_type": "code",
   "execution_count": null,
   "metadata": {},
   "outputs": [],
   "source": []
  },
  {
   "cell_type": "code",
   "execution_count": null,
   "metadata": {},
   "outputs": [],
   "source": []
  }
 ],
 "metadata": {
  "kernelspec": {
   "display_name": "Python 3",
   "language": "python",
   "name": "python3"
  },
  "language_info": {
   "codemirror_mode": {
    "name": "ipython",
    "version": 3
   },
   "file_extension": ".py",
   "mimetype": "text/x-python",
   "name": "python",
   "nbconvert_exporter": "python",
   "pygments_lexer": "ipython3",
   "version": "3.8.5"
  }
 },
 "nbformat": 4,
 "nbformat_minor": 4
}
